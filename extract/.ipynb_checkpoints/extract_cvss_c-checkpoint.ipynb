version https://git-lfs.github.com/spec/v1
oid sha256:9b741a9bfc80560a6bea23929691212fd1e4c58a2d1cf1ba03b5fa7b1c60c669
size 1034194
