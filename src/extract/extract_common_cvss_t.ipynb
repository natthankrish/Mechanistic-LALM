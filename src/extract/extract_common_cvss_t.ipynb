version https://git-lfs.github.com/spec/v1
oid sha256:1db146d4b2083bb659ef2f692fdc2f6c4cd2cbc130ebecf06d76487437da1b2e
size 139769
