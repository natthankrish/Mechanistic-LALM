version https://git-lfs.github.com/spec/v1
oid sha256:004c6cff7867b66ae954fac988b7229e6a39147d28085b88efa3fa7392fdfcb6
size 18779143
