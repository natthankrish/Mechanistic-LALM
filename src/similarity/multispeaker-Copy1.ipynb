version https://git-lfs.github.com/spec/v1
oid sha256:599008a3c0a67436516fbd6eb2070ec6424bdc4e24671e3c38cb78c4e9315e52
size 4358400
